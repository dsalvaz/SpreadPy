{
 "cells": [
  {
   "cell_type": "code",
   "execution_count": 26,
   "id": "cc993d7e",
   "metadata": {},
   "outputs": [],
   "source": [
    "import warnings\n",
    "warnings.filterwarnings('ignore')"
   ]
  },
  {
   "cell_type": "code",
   "execution_count": 27,
   "id": "ffdccf83",
   "metadata": {},
   "outputs": [],
   "source": [
    "from SpreadPy import IOUtils\n",
    "from SpreadPy import AnalyticalUtils\n",
    "\n",
    "import matplotlib.pyplot as plt\n",
    "%matplotlib inline"
   ]
  },
  {
   "cell_type": "code",
   "execution_count": 28,
   "id": "15a649a4",
   "metadata": {},
   "outputs": [],
   "source": [
    "io = IOUtils()\n",
    "\n",
    "folder = 'toy_data/mental_lexicon_2/'\n",
    "g_multiplex, layer_names = io.read_example_mental_lexicon(folder)"
   ]
  },
  {
   "cell_type": "code",
   "execution_count": 29,
   "id": "48f0aaa4",
   "metadata": {},
   "outputs": [
    {
     "data": {
      "text/plain": [
       "['FreeAssociations', 'PhonSimilarities']"
      ]
     },
     "execution_count": 29,
     "metadata": {},
     "output_type": "execute_result"
    }
   ],
   "source": [
    "layer_names"
   ]
  },
  {
   "cell_type": "code",
   "execution_count": 30,
   "id": "d187a209",
   "metadata": {},
   "outputs": [
    {
     "data": {
      "text/plain": [
       "('N', 17039, 'E', 72588)"
      ]
     },
     "execution_count": 30,
     "metadata": {},
     "output_type": "execute_result"
    }
   ],
   "source": [
    "'N', g_multiplex.number_of_nodes(), 'E', g_multiplex.number_of_edges()"
   ]
  },
  {
   "cell_type": "code",
   "execution_count": 31,
   "id": "f74b3af2",
   "metadata": {},
   "outputs": [],
   "source": [
    "utils = AnalyticalUtils(g_multiplex)"
   ]
  },
  {
   "cell_type": "code",
   "execution_count": 32,
   "id": "46391c51",
   "metadata": {},
   "outputs": [
    {
     "data": {
      "text/plain": [
       "4118"
      ]
     },
     "execution_count": 32,
     "metadata": {},
     "output_type": "execute_result"
    }
   ],
   "source": [
    "lvc_nodes = utils.lvc(layer_names)\n",
    "len(lvc_nodes)"
   ]
  },
  {
   "cell_type": "code",
   "execution_count": 33,
   "id": "29f2ce1f",
   "metadata": {},
   "outputs": [],
   "source": [
    "to_rem = list(set(g_multiplex.nodes())^set(lvc_nodes))\n",
    "g_multiplex.remove_nodes_from(to_rem)"
   ]
  },
  {
   "cell_type": "code",
   "execution_count": 34,
   "id": "cb8215e6",
   "metadata": {},
   "outputs": [
    {
     "data": {
      "text/plain": [
       "('N', 4118, 'E', 26229)"
      ]
     },
     "execution_count": 34,
     "metadata": {},
     "output_type": "execute_result"
    }
   ],
   "source": [
    "'N', g_multiplex.number_of_nodes(), 'E', g_multiplex.number_of_edges()"
   ]
  },
  {
   "cell_type": "code",
   "execution_count": 9,
   "id": "c4bc7741",
   "metadata": {},
   "outputs": [],
   "source": [
    "#g_sem = utils.graph_for_layers(layer_names=['free_associations', 'hierarchies', 'synonyms'])\n",
    "g_sem = utils.graph_for_layers(layer_names=['FreeAssociations'])"
   ]
  },
  {
   "cell_type": "code",
   "execution_count": 10,
   "id": "e44bb728",
   "metadata": {},
   "outputs": [
    {
     "data": {
      "text/plain": [
       "('N', 4118, 'E', 10567)"
      ]
     },
     "execution_count": 10,
     "metadata": {},
     "output_type": "execute_result"
    }
   ],
   "source": [
    "'N', g_sem.number_of_nodes(), 'E', g_sem.number_of_edges()"
   ]
  },
  {
   "cell_type": "code",
   "execution_count": 11,
   "id": "f8ceba93",
   "metadata": {},
   "outputs": [],
   "source": [
    "#g_phon = utils.graph_for_layers(layer_names=['phonology'])\n",
    "g_phon = utils.graph_for_layers(layer_names=['PhonSimilarities'])"
   ]
  },
  {
   "cell_type": "code",
   "execution_count": 12,
   "id": "42134422",
   "metadata": {},
   "outputs": [
    {
     "data": {
      "text/plain": [
       "('N', 4118, 'E', 15876)"
      ]
     },
     "execution_count": 12,
     "metadata": {},
     "output_type": "execute_result"
    }
   ],
   "source": [
    "'N', g_phon.number_of_nodes(), 'E', g_phon.number_of_edges()"
   ]
  },
  {
   "cell_type": "code",
   "execution_count": 13,
   "id": "38449f16",
   "metadata": {},
   "outputs": [],
   "source": [
    "# JUST ONCE\n",
    "\n",
    "#node_to_conformity = utils.node_conformity(\n",
    "#    alphas=[2],\n",
    "#    attribute=['length_bin'],\n",
    "#    profile_size=1,\n",
    "#    savefile='toy_data/mental_lexicon_2/res/length_conformity.txt'\n",
    "#)"
   ]
  },
  {
   "cell_type": "code",
   "execution_count": 14,
   "id": "7b03d77e",
   "metadata": {},
   "outputs": [],
   "source": [
    "conformity_file_length = 'toy_data/mental_lexicon_2/res/length_conformity.txt'\n",
    "\n",
    "utils.word_features_pipeline(binned=True, conformity=[conformity_file_length])"
   ]
  },
  {
   "cell_type": "code",
   "execution_count": 15,
   "id": "f3008b0f",
   "metadata": {},
   "outputs": [
    {
     "data": {
      "text/plain": [
       "{'length': 3,\n",
       " 'length_bin': 0,\n",
       " 'polysemy': 1,\n",
       " 'polysemy_bin': 0,\n",
       " 'length_bin_conformity': 0.3822795631075776}"
      ]
     },
     "execution_count": 15,
     "metadata": {},
     "output_type": "execute_result"
    }
   ],
   "source": [
    "g_multiplex.nodes[('mom')]"
   ]
  },
  {
   "cell_type": "code",
   "execution_count": 16,
   "id": "873e8854",
   "metadata": {},
   "outputs": [],
   "source": [
    "#L_sem = utils.laplacian_for_layers(layer_names=['free_associations', 'hierarchies', 'synonyms'])\n",
    "#L_phon = utils.laplacian_for_layers(layer_names=['phonology'])\n",
    "L_sem = utils.laplacian_for_layers(layer_names=['FreeAssociations'])\n",
    "L_phon = utils.laplacian_for_layers(layer_names=['PhonSimilarities'])\n",
    "\n",
    "L_sem_phon = utils.average_laplacian(L_sem, L_phon)"
   ]
  },
  {
   "cell_type": "code",
   "execution_count": 17,
   "id": "07378f9b",
   "metadata": {},
   "outputs": [
    {
     "data": {
      "text/plain": [
       "array([[5, 0, 0, ..., 0, 0, 0],\n",
       "       [0, 3, 0, ..., 0, 0, 0],\n",
       "       [0, 0, 3, ..., 0, 0, 0],\n",
       "       ...,\n",
       "       [0, 0, 0, ..., 3, 0, 0],\n",
       "       [0, 0, 0, ..., 0, 1, 0],\n",
       "       [0, 0, 0, ..., 0, 0, 5]], dtype=int32)"
      ]
     },
     "execution_count": 17,
     "metadata": {},
     "output_type": "execute_result"
    }
   ],
   "source": [
    "L_sem"
   ]
  },
  {
   "cell_type": "code",
   "execution_count": 18,
   "id": "d2718865",
   "metadata": {},
   "outputs": [
    {
     "data": {
      "text/plain": [
       "array([[ 3,  0,  0, ...,  0,  0,  0],\n",
       "       [ 0,  4,  0, ...,  0,  0,  0],\n",
       "       [ 0,  0,  1, ...,  0,  0,  0],\n",
       "       ...,\n",
       "       [ 0,  0,  0, ...,  8,  0,  0],\n",
       "       [ 0,  0,  0, ...,  0, 17, -1],\n",
       "       [ 0,  0,  0, ...,  0, -1,  8]], dtype=int32)"
      ]
     },
     "execution_count": 18,
     "metadata": {},
     "output_type": "execute_result"
    }
   ],
   "source": [
    "L_phon"
   ]
  },
  {
   "cell_type": "code",
   "execution_count": 19,
   "id": "e81bf856",
   "metadata": {},
   "outputs": [
    {
     "data": {
      "text/plain": [
       "array([[ 4. ,  0. ,  0. , ...,  0. ,  0. ,  0. ],\n",
       "       [ 0. ,  3.5,  0. , ...,  0. ,  0. ,  0. ],\n",
       "       [ 0. ,  0. ,  2. , ...,  0. ,  0. ,  0. ],\n",
       "       ...,\n",
       "       [ 0. ,  0. ,  0. , ...,  5.5,  0. ,  0. ],\n",
       "       [ 0. ,  0. ,  0. , ...,  0. ,  9. , -0.5],\n",
       "       [ 0. ,  0. ,  0. , ...,  0. , -0.5,  6.5]])"
      ]
     },
     "execution_count": 19,
     "metadata": {},
     "output_type": "execute_result"
    }
   ],
   "source": [
    "L_sem_phon"
   ]
  },
  {
   "cell_type": "code",
   "execution_count": 20,
   "id": "baac0f7f",
   "metadata": {},
   "outputs": [
    {
     "data": {
      "text/plain": [
       "0.14730835"
      ]
     },
     "execution_count": 20,
     "metadata": {},
     "output_type": "execute_result"
    }
   ],
   "source": [
    "lambda2_sem = utils.compute_second_smallest_eigenvalue(L_sem)\n",
    "lambda2_sem"
   ]
  },
  {
   "cell_type": "code",
   "execution_count": 21,
   "id": "1f4d111a",
   "metadata": {},
   "outputs": [
    {
     "data": {
      "text/plain": [
       "0.0033466744"
      ]
     },
     "execution_count": 21,
     "metadata": {},
     "output_type": "execute_result"
    }
   ],
   "source": [
    "lambda2_phon = utils.compute_second_smallest_eigenvalue(L_phon)\n",
    "lambda2_phon"
   ]
  },
  {
   "cell_type": "code",
   "execution_count": 22,
   "id": "407712c9",
   "metadata": {},
   "outputs": [
    {
     "data": {
      "text/plain": [
       "0.47621968"
      ]
     },
     "execution_count": 22,
     "metadata": {},
     "output_type": "execute_result"
    }
   ],
   "source": [
    "lambda2_sem_phon = utils.compute_second_smallest_eigenvalue(L_sem_phon)\n",
    "lambda2_sem_phon"
   ]
  },
  {
   "cell_type": "code",
   "execution_count": 23,
   "id": "6430c8e9",
   "metadata": {},
   "outputs": [],
   "source": [
    "Dx = [.05, .1, .2, .5, 1, 2, 3, 4, 5, 10]"
   ]
  },
  {
   "cell_type": "code",
   "execution_count": 24,
   "id": "d337763a",
   "metadata": {},
   "outputs": [],
   "source": [
    "SL = []\n",
    "lambda2_sl = []\n",
    "for d in Dx:\n",
    "    sl = utils.supralaplacian(L_sem, L_phon, dx=d)\n",
    "    SL.append(sl)\n",
    "    \n",
    "    lambda2_sl.append(utils.compute_second_smallest_eigenvalue(sl))"
   ]
  },
  {
   "cell_type": "code",
   "execution_count": 25,
   "id": "8853eb91",
   "metadata": {},
   "outputs": [
    {
     "data": {
      "image/png": "[encoded data removed]",
      "text/plain": [
       "<Figure size 640x480 with 1 Axes>"
      ]
     },
     "metadata": {},
     "output_type": "display_data"
    }
   ],
   "source": [
    "plt.plot(Dx, [lambda2_sem]*len(Dx), label='semantic', ls='dotted', color='k') # constant\n",
    "plt.plot(Dx, [lambda2_phon]*len(Dx), label='phonological', ls='dashed', color='k') # constant\n",
    "plt.plot(Dx, [lambda2_sem_phon]*len(Dx), label='(sem.+phon.)/2', ls='dashdot', color='k') # constant\n",
    "plt.plot(Dx, [2*el for el in Dx], label='2Dx', color='k')\n",
    "plt.plot(Dx, lambda2_sl, label='Supra-Lapl.', color='red', lw=2)\n",
    "plt.loglog()\n",
    "plt.legend(fontsize=13)\n",
    "plt.xticks(fontsize=15)\n",
    "plt.yticks(fontsize=15)\n",
    "plt.xlabel('Dx', fontsize=18)\n",
    "plt.ylabel('λ2', fontsize=18)\n",
    "plt.grid(True, which=\"both\", ls=\"-\", alpha=0.2)\n",
    "plt.tight_layout()\n",
    "plt.show()"
   ]
  },
  {
   "cell_type": "code",
   "execution_count": null,
   "id": "fc420adb",
   "metadata": {},
   "outputs": [],
   "source": []
  },
  {
   "cell_type": "code",
   "execution_count": null,
   "id": "e1bb1c7f",
   "metadata": {},
   "outputs": [],
   "source": []
  },
  {
   "cell_type": "code",
   "execution_count": null,
   "id": "ea92b1a4",
   "metadata": {},
   "outputs": [],
   "source": []
  }
 ],
 "metadata": {
  "kernelspec": {
   "display_name": "Python 3 (ipykernel)",
   "language": "python",
   "name": "python3"
  },
  "language_info": {
   "codemirror_mode": {
    "name": "ipython",
    "version": 3
   },
   "file_extension": ".py",
   "mimetype": "text/x-python",
   "name": "python",
   "nbconvert_exporter": "python",
   "pygments_lexer": "ipython3",
   "version": "3.11.5"
  }
 },
 "nbformat": 4,
 "nbformat_minor": 5
}
