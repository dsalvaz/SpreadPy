{
 "cells": [
  {
   "cell_type": "code",
   "execution_count": null,
   "id": "51a065c2",
   "metadata": {},
   "outputs": [],
   "source": [
    "import warnings\n",
    "warnings.filterwarnings('ignore')"
   ]
  },
  {
   "cell_type": "code",
   "execution_count": null,
   "id": "74eb7e9d",
   "metadata": {},
   "outputs": [],
   "source": [
    "import numpy as np\n",
    "import networkx as nx\n",
    "\n",
    "#import sys\n",
    "#sys.path.append(r\"C:\\Users\\salva\\PycharmProjects\\SpreadPy\")\n",
    "#path = r\"C:\\Users\\salva\\PycharmProjects\\SpreadPy\\\\\"\n",
    "\n",
    "from SpreadPy import IOUtils\n",
    "from SpreadPy import AnalyticalUtils\n",
    "from SpreadPy.Models.models import *\n",
    "\n",
    "import matplotlib.pyplot as plt\n",
    "%matplotlib inline"
   ]
  },
  {
   "cell_type": "markdown",
   "id": "7e666b2a",
   "metadata": {},
   "source": [
    "## Build the Multiplex Graph as a Networkx Object"
   ]
  },
  {
   "cell_type": "code",
   "execution_count": null,
   "id": "6fff643d",
   "metadata": {},
   "outputs": [],
   "source": [
    "io = IOUtils()\n",
    "\n",
    "#folder = path+'toy_data/mental_lexicon_2/'\n",
    "folder = 'toy_data/mental_lexicon_2/'\n",
    "g_multiplex, layer_names = io.read_example_mental_lexicon(folder)"
   ]
  },
  {
   "cell_type": "code",
   "execution_count": null,
   "id": "f6e4dd5e",
   "metadata": {},
   "outputs": [],
   "source": [
    "layer_names"
   ]
  },
  {
   "cell_type": "code",
   "execution_count": null,
   "id": "2744cc04",
   "metadata": {},
   "outputs": [],
   "source": [
    "'N', g_multiplex.number_of_nodes(), 'E', g_multiplex.number_of_edges()"
   ]
  },
  {
   "cell_type": "code",
   "execution_count": null,
   "id": "42c1276f",
   "metadata": {},
   "outputs": [],
   "source": [
    "g_multiplex.edges['world','globe']"
   ]
  },
  {
   "cell_type": "code",
   "execution_count": null,
   "id": "bd1ab2a3",
   "metadata": {},
   "outputs": [],
   "source": [
    "g_multiplex.edges['alone','lone']['layer']"
   ]
  },
  {
   "cell_type": "markdown",
   "id": "4f47c3d9",
   "metadata": {},
   "source": [
    "# Use the layer(s) you prefer"
   ]
  },
  {
   "cell_type": "code",
   "execution_count": null,
   "id": "41150fc0",
   "metadata": {},
   "outputs": [],
   "source": [
    "utils = AnalyticalUtils(g_multiplex)"
   ]
  },
  {
   "cell_type": "code",
   "execution_count": null,
   "id": "299767d5",
   "metadata": {},
   "outputs": [],
   "source": [
    "g_sem = utils.graph_for_layers(layer_names=['FreeAssociations'])\n",
    "'N', g_sem.number_of_nodes(), 'E', g_sem.number_of_edges()"
   ]
  },
  {
   "cell_type": "code",
   "execution_count": null,
   "id": "e24b9d97",
   "metadata": {},
   "outputs": [],
   "source": [
    "largest_component = max(nx.connected_components(g_sem), key=len)\n",
    "lcc_sem = g_sem.subgraph(largest_component)\n",
    "lcc_sem = lcc_sem.copy()\n",
    "\n",
    "'N', lcc_sem.number_of_nodes(), 'E', lcc_sem.number_of_edges()"
   ]
  },
  {
   "cell_type": "code",
   "execution_count": null,
   "id": "9ce29567",
   "metadata": {},
   "outputs": [],
   "source": [
    "g_phon = utils.graph_for_layers(layer_names=['PhonSimilarities'])\n",
    "'N', g_phon.number_of_nodes(), 'E', g_phon.number_of_edges()"
   ]
  },
  {
   "cell_type": "code",
   "execution_count": null,
   "id": "ece263e9",
   "metadata": {},
   "outputs": [],
   "source": [
    "largest_component = max(nx.connected_components(g_phon), key=len)\n",
    "lcc_phon = g_phon.subgraph(largest_component)\n",
    "lcc_phon = lcc_phon.copy()\n",
    "\n",
    "'N', lcc_phon.number_of_nodes(), 'E', lcc_phon.number_of_edges()"
   ]
  },
  {
   "cell_type": "markdown",
   "id": "d463a439",
   "metadata": {},
   "source": [
    "# Largest Viable Component"
   ]
  },
  {
   "cell_type": "code",
   "execution_count": null,
   "id": "26db6c3f",
   "metadata": {},
   "outputs": [],
   "source": [
    "lvc_nodes = utils.lvc(layer_names)\n",
    "len(lvc_nodes)"
   ]
  },
  {
   "cell_type": "code",
   "execution_count": null,
   "id": "50d28ac1",
   "metadata": {},
   "outputs": [],
   "source": [
    "to_rem = list(set(g_multiplex.nodes())^set(lvc_nodes))\n",
    "g_multiplex.remove_nodes_from(to_rem)\n",
    "\n",
    "'N', g_multiplex.number_of_nodes(), 'E', g_multiplex.number_of_edges()"
   ]
  },
  {
   "cell_type": "code",
   "execution_count": null,
   "id": "fa8cb513",
   "metadata": {},
   "outputs": [],
   "source": [
    "g_sem = utils.graph_for_layers(layer_names=['FreeAssociations'])\n",
    "'N', g_sem.number_of_nodes(), 'E', g_sem.number_of_edges()"
   ]
  },
  {
   "cell_type": "code",
   "execution_count": null,
   "id": "77d16873",
   "metadata": {},
   "outputs": [],
   "source": [
    "#g_phon = utils.graph_for_layers(layer_names=['phonology'])\n",
    "g_phon = utils.graph_for_layers(layer_names=['PhonSimilarities'])\n",
    "'N', g_phon.number_of_nodes(), 'E', g_phon.number_of_edges()"
   ]
  },
  {
   "cell_type": "code",
   "execution_count": null,
   "id": "b5a446fb",
   "metadata": {},
   "outputs": [],
   "source": []
  },
  {
   "cell_type": "markdown",
   "id": "c111eff7",
   "metadata": {},
   "source": [
    "# Adding Node Attributes"
   ]
  },
  {
   "cell_type": "markdown",
   "id": "3af89501",
   "metadata": {},
   "source": [
    "I will use the semantic network as an example.\n",
    "\n",
    "I build a dictionary in the following form:\n",
    "\n",
    "key_1 -> {key_2: value}\n",
    "\n",
    "key_1 is the name of the attribute, e.g., 'concreteness', key_2 is the node id and value is the value of the attribute, e.g., {'rock': 7, 'sand': 5}"
   ]
  },
  {
   "cell_type": "code",
   "execution_count": null,
   "id": "e956af20",
   "metadata": {},
   "outputs": [],
   "source": [
    "# if it does not work, run:\n",
    "\n",
    "# import nltk\n",
    "# nltk.download('wordnet')\n",
    "\n",
    "\n",
    "# here you can use any attribute you want (freq, concr, etc)\n",
    "additional_attrs = {'lorem': {n: 1 for n in g_sem.nodes()},\n",
    "                   'ipsum': {n: 'A' for n in g_sem.nodes()}\n",
    "                   }\n",
    "\n",
    "\n",
    "utils = AnalyticalUtils(g_sem)\n",
    "utils.word_features_pipeline(binned=False, additional_attributes=additional_attrs)"
   ]
  },
  {
   "cell_type": "code",
   "execution_count": null,
   "id": "f3cba6a7",
   "metadata": {},
   "outputs": [],
   "source": [
    "g_sem.nodes[('mom')]"
   ]
  },
  {
   "cell_type": "code",
   "execution_count": null,
   "id": "2bfcfe91",
   "metadata": {},
   "outputs": [],
   "source": []
  },
  {
   "cell_type": "markdown",
   "id": "029a59f1",
   "metadata": {},
   "source": [
    "# Weighted Spreading Activation: Similarity Model"
   ]
  },
  {
   "cell_type": "markdown",
   "id": "b314b902",
   "metadata": {},
   "source": [
    "### Toy similarity model\n",
    "\n",
    "<b> weighted=True </b> : I will consider weights, i.e., node attributes;\n",
    "\n",
    "<b> weight='toy' </b> : The name of the node attribute to consider;\n",
    "\n",
    "<b> similarity = True </b> : The flow will be higher between nodes sharing similar values;"
   ]
  },
  {
   "cell_type": "code",
   "execution_count": null,
   "id": "3543ff12",
   "metadata": {},
   "outputs": [],
   "source": [
    "model = BaseSpreading(g_sem, retention=0.7, decay=0.1, suppress=0,\n",
    "                         weighted=True, weight='length', similarity=True)\n",
    "\n",
    "################### INITIAL SETTING ##############\n",
    "initial_active_nodes = ['mom']\n",
    "initial_status = {node: g_sem.degree[node] if node in initial_active_nodes else 0 for node in g_sem.nodes}\n",
    "model.status = initial_status\n",
    "time = 20\n",
    "##################################################\n",
    "\n",
    "results = model.iteration_bunch(time)\n",
    "final_status = results[-1]['status']\n",
    "ranked_results = model.rank_status_activation(final_status)"
   ]
  },
  {
   "cell_type": "code",
   "execution_count": null,
   "id": "4c8f6b20",
   "metadata": {},
   "outputs": [],
   "source": [
    "node_activation = model.node_activation_series(results)"
   ]
  },
  {
   "cell_type": "code",
   "execution_count": null,
   "id": "a085b89b",
   "metadata": {},
   "outputs": [],
   "source": [
    "model.plot_activated_series(node_activation, time, ['dad', 'ma', 'maternal'])"
   ]
  },
  {
   "cell_type": "markdown",
   "id": "d4d02fe0",
   "metadata": {},
   "source": [
    "# Weighted Spreading Activation: Dissimilarity Model"
   ]
  },
  {
   "cell_type": "markdown",
   "id": "221d27be",
   "metadata": {},
   "source": [
    "### Toy dissimilarity model\n",
    "\n",
    "<b> weighted=True </b> : I will consider weights, i.e., node attributes;\n",
    "\n",
    "<b> weight='toy' </b> : The name of the node attribute to consider;\n",
    "\n",
    "<b> similarity = False </b> : The flow will be higher between nodes sharing different values;"
   ]
  },
  {
   "cell_type": "code",
   "execution_count": null,
   "id": "083220e7",
   "metadata": {},
   "outputs": [],
   "source": [
    "model = BaseSpreading(g_sem, retention=0.7, decay=0.1, suppress=0,\n",
    "                         weighted=True, weight='length', similarity=False)\n",
    "\n",
    "################### INITIAL SETTING ##############\n",
    "initial_active_nodes = ['mom']\n",
    "initial_status = {node: g_sem.degree[node] if node in initial_active_nodes else 0 for node in g_sem.nodes}\n",
    "model.status = initial_status\n",
    "time = 20\n",
    "##################################################\n",
    "\n",
    "results = model.iteration_bunch(time)\n",
    "final_status = results[-1]['status']\n",
    "ranked_results = model.rank_status_activation(final_status)"
   ]
  },
  {
   "cell_type": "code",
   "execution_count": null,
   "id": "3feb8a95",
   "metadata": {},
   "outputs": [],
   "source": [
    "node_activation = model.node_activation_series(results)"
   ]
  },
  {
   "cell_type": "code",
   "execution_count": null,
   "id": "b3fab4dc",
   "metadata": {},
   "outputs": [],
   "source": [
    "model.plot_activated_series(node_activation, time, ['dad', 'ma', 'maternal'])"
   ]
  }
 ],
 "metadata": {
  "kernelspec": {
   "display_name": "Python 3 (ipykernel)",
   "language": "python",
   "name": "python3"
  },
  "language_info": {
   "codemirror_mode": {
    "name": "ipython",
    "version": 3
   },
   "file_extension": ".py",
   "mimetype": "text/x-python",
   "name": "python",
   "nbconvert_exporter": "python",
   "pygments_lexer": "ipython3",
   "version": "3.11.5"
  }
 },
 "nbformat": 4,
 "nbformat_minor": 5
}
