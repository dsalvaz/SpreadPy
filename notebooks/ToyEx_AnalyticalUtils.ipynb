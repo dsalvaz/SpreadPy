{
 "cells": [
  {
   "cell_type": "code",
   "execution_count": 1,
   "id": "305525c4",
   "metadata": {},
   "outputs": [],
   "source": [
    "import warnings\n",
    "warnings.filterwarnings('ignore')"
   ]
  },
  {
   "cell_type": "code",
   "execution_count": 2,
   "id": "44c65a26",
   "metadata": {},
   "outputs": [],
   "source": [
    "import networkx as nx\n",
    "from SpreadPy import AnalyticalUtils\n",
    "\n",
    "import matplotlib.pyplot as plt\n",
    "%matplotlib inline"
   ]
  },
  {
   "cell_type": "code",
   "execution_count": 3,
   "id": "ed49aa52",
   "metadata": {},
   "outputs": [],
   "source": [
    "g = nx.Graph()\n",
    "\n",
    "g.add_edge(0, 1, layer=['l2'])\n",
    "g.add_edge(0, 2, layer=['l1'])\n",
    "g.add_edge(0, 3, layer=['l1'])\n",
    "g.add_edge(0, 4, layer=['l2'])\n",
    "\n",
    "g.add_edge(1, 4, layer=['l2'])\n",
    "g.add_edge(1, 2, layer=['l1','l2'])\n",
    "g.add_edge(1, 5, layer=['l1','l2'])\n",
    "\n",
    "g.add_edge(2, 3, layer=['l1'])\n",
    "g.add_edge(2, 4, layer=['l1'])\n",
    "g.add_edge(2, 5, layer=['l1','l2'])\n",
    "\n",
    "g.add_edge(3, 4, layer=['l1'])\n",
    "g.add_edge(3, 5, layer=['l1','l2'])"
   ]
  },
  {
   "cell_type": "code",
   "execution_count": 4,
   "id": "093841d2",
   "metadata": {},
   "outputs": [],
   "source": [
    "utils = AnalyticalUtils(g)"
   ]
  },
  {
   "cell_type": "code",
   "execution_count": 5,
   "id": "9a3582c4",
   "metadata": {},
   "outputs": [],
   "source": [
    "g_l1 = utils.graph_for_layers(layer_names=['l1'])\n",
    "g_l2 = utils.graph_for_layers(layer_names=['l2'])"
   ]
  },
  {
   "cell_type": "code",
   "execution_count": 6,
   "id": "bb0da62c",
   "metadata": {},
   "outputs": [],
   "source": [
    "L_l1 = utils.laplacian_for_layers(layer_names=['l1'])\n",
    "L_l2 = utils.laplacian_for_layers(layer_names=['l2'])\n",
    "\n",
    "L_l1_l2 = utils.average_laplacian(L_l1, L_l2)"
   ]
  },
  {
   "cell_type": "code",
   "execution_count": 7,
   "id": "9178c68c",
   "metadata": {},
   "outputs": [
    {
     "data": {
      "text/plain": [
       "array([[ 2,  0, -1, -1,  0,  0],\n",
       "       [ 0,  2, -1,  0,  0, -1],\n",
       "       [-1, -1,  5, -1, -1, -1],\n",
       "       [-1,  0, -1,  4, -1, -1],\n",
       "       [ 0,  0, -1, -1,  2,  0],\n",
       "       [ 0, -1, -1, -1,  0,  3]], dtype=int32)"
      ]
     },
     "execution_count": 7,
     "metadata": {},
     "output_type": "execute_result"
    }
   ],
   "source": [
    "L_l1"
   ]
  },
  {
   "cell_type": "code",
   "execution_count": 8,
   "id": "875c1457",
   "metadata": {},
   "outputs": [
    {
     "data": {
      "text/plain": [
       "array([[ 2, -1,  0,  0, -1,  0],\n",
       "       [-1,  4, -1,  0, -1, -1],\n",
       "       [ 0, -1,  2,  0,  0, -1],\n",
       "       [ 0,  0,  0,  1,  0, -1],\n",
       "       [-1, -1,  0,  0,  2,  0],\n",
       "       [ 0, -1, -1, -1,  0,  3]], dtype=int32)"
      ]
     },
     "execution_count": 8,
     "metadata": {},
     "output_type": "execute_result"
    }
   ],
   "source": [
    "L_l2"
   ]
  },
  {
   "cell_type": "code",
   "execution_count": 9,
   "id": "d33e0186",
   "metadata": {},
   "outputs": [
    {
     "data": {
      "text/plain": [
       "array([[ 2. , -0.5, -0.5, -0.5, -0.5,  0. ],\n",
       "       [-0.5,  3. , -1. ,  0. , -0.5, -1. ],\n",
       "       [-0.5, -1. ,  3.5, -0.5, -0.5, -1. ],\n",
       "       [-0.5,  0. , -0.5,  2.5, -0.5, -1. ],\n",
       "       [-0.5, -0.5, -0.5, -0.5,  2. ,  0. ],\n",
       "       [ 0. , -1. , -1. , -1. ,  0. ,  3. ]])"
      ]
     },
     "execution_count": 9,
     "metadata": {},
     "output_type": "execute_result"
    }
   ],
   "source": [
    "L_l1_l2"
   ]
  },
  {
   "cell_type": "code",
   "execution_count": 10,
   "id": "5877fd64",
   "metadata": {},
   "outputs": [
    {
     "data": {
      "text/plain": [
       "1.5188056"
      ]
     },
     "execution_count": 10,
     "metadata": {},
     "output_type": "execute_result"
    }
   ],
   "source": [
    "lambda2_l1 = utils.compute_second_smallest_eigenvalue(L_l1)\n",
    "lambda2_l1"
   ]
  },
  {
   "cell_type": "code",
   "execution_count": 11,
   "id": "265a87b2",
   "metadata": {},
   "outputs": [
    {
     "data": {
      "text/plain": [
       "0.63135076"
      ]
     },
     "execution_count": 11,
     "metadata": {},
     "output_type": "execute_result"
    }
   ],
   "source": [
    "lambda2_l2 = utils.compute_second_smallest_eigenvalue(L_l2)\n",
    "lambda2_l2"
   ]
  },
  {
   "cell_type": "code",
   "execution_count": 12,
   "id": "b15db5ab",
   "metadata": {},
   "outputs": [
    {
     "data": {
      "text/plain": [
       "2.0000007"
      ]
     },
     "execution_count": 12,
     "metadata": {},
     "output_type": "execute_result"
    }
   ],
   "source": [
    "lambda2_l1_l2 = utils.compute_second_smallest_eigenvalue(L_l1_l2)\n",
    "lambda2_l1_l2"
   ]
  },
  {
   "cell_type": "code",
   "execution_count": 13,
   "id": "97003e74",
   "metadata": {},
   "outputs": [],
   "source": [
    "Dx = [.1, .2, .5, 1, 2, 3, 4, 5, 10]"
   ]
  },
  {
   "cell_type": "code",
   "execution_count": 14,
   "id": "27eee298",
   "metadata": {},
   "outputs": [],
   "source": [
    "SL = []\n",
    "lambda2_sl = []\n",
    "for d in Dx:\n",
    "    sl = utils.supralaplacian(L_l1, L_l2, dx=d)\n",
    "    SL.append(sl)\n",
    "    \n",
    "    lambda2_sl.append(utils.compute_second_smallest_eigenvalue(sl))"
   ]
  },
  {
   "cell_type": "code",
   "execution_count": 15,
   "id": "34a30754",
   "metadata": {},
   "outputs": [
    {
     "data": {
      "image/png": "[encoded data removed]",
      "text/plain": [
       "<Figure size 640x480 with 1 Axes>"
      ]
     },
     "metadata": {},
     "output_type": "display_data"
    }
   ],
   "source": [
    "plt.plot(Dx, [lambda2_l1]*len(Dx), label='L1', ls='dotted', color='k') # constant\n",
    "plt.plot(Dx, [lambda2_l2]*len(Dx), label='L2', ls='dashed', color='k') # constant\n",
    "plt.plot(Dx, [lambda2_l1_l2]*len(Dx), label='(L1+L2)/2', ls='dashdot', color='k') # constant\n",
    "plt.plot(Dx, [2*el for el in Dx], label='2Dx', color='k')\n",
    "plt.plot(Dx, lambda2_sl, label='Supra-Lapl.', color='red', lw=2)\n",
    "plt.loglog()\n",
    "plt.legend(fontsize=13)\n",
    "plt.xticks(fontsize=15)\n",
    "plt.yticks(fontsize=15)\n",
    "plt.xlabel('Dx', fontsize=18)\n",
    "plt.ylabel('λ2', fontsize=18)\n",
    "plt.grid(True, which=\"both\", ls=\"-\", alpha=0.2)\n",
    "plt.tight_layout()\n",
    "plt.show()"
   ]
  },
  {
   "cell_type": "code",
   "execution_count": null,
   "id": "6aaf0c13",
   "metadata": {},
   "outputs": [],
   "source": []
  }
 ],
 "metadata": {
  "kernelspec": {
   "display_name": "Python 3 (ipykernel)",
   "language": "python",
   "name": "python3"
  },
  "language_info": {
   "codemirror_mode": {
    "name": "ipython",
    "version": 3
   },
   "file_extension": ".py",
   "mimetype": "text/x-python",
   "name": "python",
   "nbconvert_exporter": "python",
   "pygments_lexer": "ipython3",
   "version": "3.11.5"
  }
 },
 "nbformat": 4,
 "nbformat_minor": 5
}
